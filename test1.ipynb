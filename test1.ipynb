{
 "cells": [
  {
   "cell_type": "code",
   "execution_count": 1,
   "id": "5eb215ee-7b15-496e-825b-f774cf3ed5f3",
   "metadata": {},
   "outputs": [],
   "source": [
    "import cv2\n",
    "import numpy as np\n",
    "from datagenerator import LeopardDMSCam"
   ]
  },
  {
   "cell_type": "code",
   "execution_count": null,
   "id": "f14cd9d9-abeb-4313-a9f7-e742cc1c7440",
   "metadata": {},
   "outputs": [
    {
     "name": "stdout",
     "output_type": "stream",
     "text": [
      "Searching for camera '2' (ID: 2a0b:00b4)...\n",
      "Found camera '2' at /dev/video3.\n",
      "Camera opened successfully. Actual resolution: 1944.0x1204.0\n"
     ]
    },
    {
     "data": {
      "text/plain": [
       "True"
      ]
     },
     "execution_count": 2,
     "metadata": {},
     "output_type": "execute_result"
    }
   ],
   "source": [
    "cam = LeopardDMSCam(2)\n",
    "frame = next(cam)"
   ]
  },
  {
   "cell_type": "code",
   "execution_count": 3,
   "id": "c9c7055b",
   "metadata": {},
   "outputs": [
    {
     "name": "stdout",
     "output_type": "stream",
     "text": [
      "Controls: 'q' = quit, 'h' = toggle horizontal flip, 'v' = toggle vertical flip, 's' = toggle save mode\n",
      "Save mode: ON - Saving frames to ./frames/frame_XXXXX.png\n",
      "Save mode: OFF - Saved 103 frames to ./frames\n"
     ]
    }
   ],
   "source": [
    "cam.show()"
   ]
  },
  {
   "cell_type": "code",
   "execution_count": 4,
   "id": "5084e5f3",
   "metadata": {},
   "outputs": [
    {
     "name": "stdout",
     "output_type": "stream",
     "text": [
      "Camera released.\n"
     ]
    }
   ],
   "source": [
    "cam.release()"
   ]
  }
 ],
 "metadata": {
  "kernelspec": {
   "display_name": ".venv",
   "language": "python",
   "name": "python3"
  },
  "language_info": {
   "codemirror_mode": {
    "name": "ipython",
    "version": 3
   },
   "file_extension": ".py",
   "mimetype": "text/x-python",
   "name": "python",
   "nbconvert_exporter": "python",
   "pygments_lexer": "ipython3",
   "version": "3.13.5"
  }
 },
 "nbformat": 4,
 "nbformat_minor": 5
}
